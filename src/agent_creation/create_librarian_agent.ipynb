{
 "cells": [
  {
   "cell_type": "markdown",
   "metadata": {},
   "source": [
    "# Library Agent Creation\n",
    "\n",
    "Notebook below connects to an existing Azure AI Foundry workspace and instantiates an agent which supports question/answering over Goodreads book data (descriptions & reviews) retrieved from both Azure AI Search and an Azure SQL database"
   ]
  },
  {
   "cell_type": "markdown",
   "metadata": {},
   "source": [
    "### Install missing dependencies"
   ]
  },
  {
   "cell_type": "code",
   "execution_count": 12,
   "metadata": {},
   "outputs": [],
   "source": [
    "# ! pip install -r ../../requirements.txt"
   ]
  },
  {
   "cell_type": "markdown",
   "metadata": {},
   "source": [
    "### Import required packages"
   ]
  },
  {
   "cell_type": "code",
   "execution_count": 13,
   "metadata": {},
   "outputs": [
    {
     "data": {
      "text/plain": [
       "True"
      ]
     },
     "execution_count": 13,
     "metadata": {},
     "output_type": "execute_result"
    }
   ],
   "source": [
    "import json\n",
    "\n",
    "import os, time\n",
    "from azure.ai.projects import AIProjectClient\n",
    "from azure.identity import DefaultAzureCredential\n",
    "from azure.ai.projects.models import MessageTextContent\n",
    "from azure.ai.projects.models import CodeInterpreterTool, MessageAttachment\n",
    "from azure.ai.projects.models import FilePurpose\n",
    "from pathlib import Path\n",
    "from opentelemetry import trace\n",
    "from azure.monitor.opentelemetry import configure_azure_monitor\n",
    "import base64\n",
    "\n",
    "from azure.ai.projects.models import (\n",
    "    AgentEventHandler,\n",
    "    FunctionTool,\n",
    "    MessageDeltaChunk,\n",
    "    RequiredFunctionToolCall,\n",
    "    RunStep,\n",
    "    RunStepStatus,\n",
    "    SubmitToolOutputsAction,\n",
    "    ThreadMessage,\n",
    "    ThreadRun,\n",
    "    ToolOutput,\n",
    ")\n",
    "from typing import Any\n",
    "from dotenv import load_dotenv\n",
    "\n",
    "load_dotenv('../../.env', override=True)"
   ]
  },
  {
   "cell_type": "markdown",
   "metadata": {},
   "source": [
    "### Load schema for target search index"
   ]
  },
  {
   "cell_type": "code",
   "execution_count": 14,
   "metadata": {},
   "outputs": [
    {
     "data": {
      "text/plain": [
       "{'id': 'A unique identifier for the book in the index.',\n",
       " 'sourcefileref': 'A reference to the original file source, which can be null if not applicable.',\n",
       " 'Name': 'The title of the book.',\n",
       " 'PublishMonth': 'The month the book was published.',\n",
       " 'PublishDay': 'The day of the month the book was published.',\n",
       " 'Publisher': 'The name of the entity that published the book.',\n",
       " 'PublishYear': 'The year the book was published.',\n",
       " 'Language': 'The language in which the book is written, represented in a string format.',\n",
       " 'Authors': 'The name(s) of the author(s) of the book.',\n",
       " 'ISBN': 'The International Standard Book Number assigned to the book.',\n",
       " 'Description': \"A brief summary or description of the book's content.\",\n",
       " 'embeddings': \"A list of numerical values representing the book's content in a vector space, often used for similarity searches or machine learning applications.\"}"
      ]
     },
     "execution_count": 14,
     "metadata": {},
     "output_type": "execute_result"
    }
   ],
   "source": [
    "with open('../schema/ai_search_schema.json', 'r') as f:\n",
    "    ai_search_schema = f.read()\n",
    "\n",
    "json.loads(ai_search_schema)"
   ]
  },
  {
   "cell_type": "markdown",
   "metadata": {},
   "source": [
    "### Load schema for target SQL database"
   ]
  },
  {
   "cell_type": "code",
   "execution_count": 15,
   "metadata": {},
   "outputs": [
    {
     "data": {
      "text/plain": [
       "{'dbo.goodreads_book_data': {'Name': {'type': 'nvarchar',\n",
       "   'description': 'The title of the book.'},\n",
       "  'ISBN': {'type': 'nvarchar',\n",
       "   'description': 'The International Standard Book Number assigned to the book.'},\n",
       "  'RatingDist1': {'type': 'bigint',\n",
       "   'description': 'The number of 1-star reviews the book has received.'},\n",
       "  'RatingDist2': {'type': 'bigint',\n",
       "   'description': 'The number of 2-star reviews the book has received.'},\n",
       "  'RatingDist3': {'type': 'bigint',\n",
       "   'description': 'The number of 3-star reviews the book has received.'},\n",
       "  'RatingDist4': {'type': 'bigint',\n",
       "   'description': 'The number of 4-star reviews the book has received.'},\n",
       "  'RatingDist5': {'type': 'bigint',\n",
       "   'description': 'The number of 5-star reviews the book has received.'},\n",
       "  'RatingDistTotal': {'type': 'bigint',\n",
       "   'description': 'The total number of reviews the book has received across all star ratings.'},\n",
       "  'CountsOfReview': {'type': 'bigint',\n",
       "   'description': 'The total count of reviews the book has received.'},\n",
       "  'Rating': {'type': 'float',\n",
       "   'description': 'The average rating of the book based on user reviews, represented as a floating-point number.'},\n",
       "  'PagesNumber': {'type': 'bigint',\n",
       "   'description': 'The total number of pages in the book.'},\n",
       "  'id': {'type': 'bigint',\n",
       "   'description': 'A unique identifier for the book in the database.'}}}"
      ]
     },
     "execution_count": 15,
     "metadata": {},
     "output_type": "execute_result"
    }
   ],
   "source": [
    "with open('../schema/sql_table_schema.json', 'r') as f:\n",
    "    sql_schema = f.read()\n",
    "\n",
    "json.loads(sql_schema)"
   ]
  },
  {
   "cell_type": "markdown",
   "metadata": {},
   "source": [
    "### Import utility function definitions "
   ]
  },
  {
   "cell_type": "code",
   "execution_count": 16,
   "metadata": {},
   "outputs": [],
   "source": [
    "import sys\n",
    "import os\n",
    "sys.path.append(os.path.join(os.path.dirname(os.path.abspath('')), '../utility_functions'))\n",
    "sys.path.append(r'C:\\Users\\nikwieci\\Documents\\Engagements\\Eaton\\Eaton_Agent_Streaming_Sample\\src\\utility_functions')\n",
    "\n",
    "from agent_functions import agent_functions\n",
    "functions = FunctionTool(functions=agent_functions)"
   ]
  },
  {
   "cell_type": "markdown",
   "metadata": {},
   "source": [
    "### Create connection to Azure AI Foundry"
   ]
  },
  {
   "cell_type": "code",
   "execution_count": 17,
   "metadata": {},
   "outputs": [],
   "source": [
    "project_client = AIProjectClient.from_connection_string(\n",
    "    credential=DefaultAzureCredential(),\n",
    "    conn_str=os.environ['AZURE_AI_FOUNDRY_CONNECTION_STRING'],\n",
    ")"
   ]
  },
  {
   "cell_type": "markdown",
   "metadata": {},
   "source": [
    "### Define and Create Agent\n",
    "\n",
    "Note: after creation, you can reference this agent by ID in your FastAPI app"
   ]
  },
  {
   "cell_type": "code",
   "execution_count": 18,
   "metadata": {},
   "outputs": [
    {
     "name": "stdout",
     "output_type": "stream",
     "text": [
      "Agent ID: asst_Grkk9RtOB87PTtYSaRWXHCNp\n"
     ]
    }
   ],
   "source": [
    "agent = project_client.agents.create_agent(\n",
    "    model=\"gpt-4o\",\n",
    "    name=\"librarian-agent\",\n",
    "    instructions=f\"\"\"You are a helpful librarian assisting users with questions about Goodreads book data stored in multiple sources: **an Azure AI Search Index**, **a SQL database**, and you also have access to a **code interpreter** for data analysis and visualization. You have the ability to retrieve and analyze data from these sources to provide factual, grounded responses.\n",
    "\n",
    "1. **Tools and Their Uses**  \n",
    "   - **Azure AI Search Index**: Best for searching by titles, descriptions, authors, publishers, or keywords to find relevant books.  \n",
    "   - **SQL Database**: Contains the same core data (linked by ISBN) as the search index, plus detailed review statistics (e.g., average rating, count of reviews per star rating). Use SQL queries to retrieve review-based details.  \n",
    "   - **Code Interpreter**: Use this tool for creating visualizations, performing data analysis, or other code-based tasks that could help in answering users’ questions (e.g., charting ratings over time).\n",
    "\n",
    "2. **Search and Retrieval**  \n",
    "   - Always start by checking whether a search index query or a SQL query (or both) can provide the necessary information.  \n",
    "   - You may perform multiple queries (search or SQL) and use the code interpreter if needed to clarify or enhance your findings.\n",
    "\n",
    "3. **Grounding and Citations**  \n",
    "   - Base your answers **only** on the facts found in the retrieved data.  \n",
    "   - For citations, use the book’s **ISBN** in square brackets, for example: `[ISBN1]`.  \n",
    "   - If you cite multiple sources, list them separately (e.g., `[ISBN1][ISBN2]`).  \n",
    "   - If your initial attempts do not yield sufficient information, try different queries or clarifications as needed.\n",
    "\n",
    "4. **Handling Insufficient Information**  \n",
    "   - If, after attempting relevant searches or queries, you still cannot find the information, politely inform the user that the data is not available.\n",
    "\n",
    "5. **Communication Style**  \n",
    "   - Be friendly, respectful, and supportive, as a librarian would be.  \n",
    "   - If the user’s question is not in English, answer in the same language.  \n",
    "   - If you need more details from the user to find the right information, ask clarifying questions.\n",
    "\n",
    "6. **Constraints**  \n",
    "   - Do not generate or add content that is not supported by the results from your tools.  \n",
    "   - Refrain from providing speculation or extraneous details that are not directly supported by the data.\n",
    "\n",
    "---\n",
    "\n",
    "### AI Search Index Schema: {ai_search_schema}\n",
    "\n",
    "---\n",
    "\n",
    "### SQL Table Schema: {sql_schema}\n",
    "        \n",
    "        \"\"\",\n",
    "    temperature=0.0,\n",
    "    tools=functions.definitions + CodeInterpreterTool().definitions,\n",
    ")\n",
    "agent_id = agent.id\n",
    "print(f\"Agent ID: {agent_id}\")"
   ]
  }
 ],
 "metadata": {
  "kernelspec": {
   "display_name": "Python 3",
   "language": "python",
   "name": "python3"
  },
  "language_info": {
   "codemirror_mode": {
    "name": "ipython",
    "version": 3
   },
   "file_extension": ".py",
   "mimetype": "text/x-python",
   "name": "python",
   "nbconvert_exporter": "python",
   "pygments_lexer": "ipython3",
   "version": "3.11.9"
  }
 },
 "nbformat": 4,
 "nbformat_minor": 2
}
